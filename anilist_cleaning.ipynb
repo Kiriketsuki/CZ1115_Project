{
 "metadata": {
  "language_info": {
   "codemirror_mode": {
    "name": "ipython",
    "version": 3
   },
   "file_extension": ".py",
   "mimetype": "text/x-python",
   "name": "python",
   "nbconvert_exporter": "python",
   "pygments_lexer": "ipython3",
   "version": "3.8.5"
  },
  "orig_nbformat": 2,
  "kernelspec": {
   "name": "python3",
   "display_name": "Python 3.8.5 64-bit ('base': conda)",
   "metadata": {
    "interpreter": {
     "hash": "c9bbbe4d64e0f0653c5bfb1b2e8b0c61249e8b0a940ba6d3db7c54bb7e4b468b"
    }
   }
  }
 },
 "nbformat": 4,
 "nbformat_minor": 2,
 "cells": [
  {
   "cell_type": "code",
   "execution_count": null,
   "metadata": {},
   "outputs": [],
   "source": [
    "#imports\n",
    "import config\n",
    "import requests\n",
    "import json\n",
    "import csv\n",
    "import pprint\n",
    "import pandas as pd\n",
    "import time\n",
    "import ast\n",
    "import numpy as np\n",
    "import seaborn as sb\n",
    "import matplotlib.pyplot as plt\n",
    "import regex as re\n",
    "\n",
    "# import unicodedata.category as cat\n",
    "import unicodedata\n",
    "import sys\n",
    "\n",
    "# pretty printer for nicer formating when needed\n",
    "pp = pprint.PrettyPrinter(indent = 1)"
   ]
  },
  {
   "cell_type": "code",
   "execution_count": null,
   "metadata": {},
   "outputs": [],
   "source": [
    "# function for removing weird non japanese characters from japanese strings\n",
    "tbl = dict.fromkeys(i for i in range(sys.maxunicode)\n",
    "                      if unicodedata.category(chr(i)).startswith('P'))\n",
    "\n",
    "def remove_punctuation(text):\n",
    "    alphanum_full = r'[！-～]'\n",
    "    symbols_punct = r'[、-〿]'\n",
    "    text = text.replace(\" \",\"\")\n",
    "    text = text.replace(\"　\",\"\")\n",
    "    text = text.replace(\"♡\",\"\")\n",
    "    text = text.replace(\"♥\", \"\")\n",
    "    text = text.replace(\"☆\",\"\")\n",
    "    text = text.replace(\"★\", \"\")\n",
    "    text = text.replace(\"△\",\"\")\n",
    "    text = text.replace(\"→\", \"\")\n",
    "    text = text.replace(\"×\", \"\")\n",
    "    text = text.lower()\n",
    "    text = re.sub(alphanum_full, \"\", text)\n",
    "    text = re.sub(symbols_punct, \"\", text)\n",
    "    return text.translate(tbl)"
   ]
  },
  {
   "cell_type": "code",
   "execution_count": null,
   "metadata": {},
   "outputs": [],
   "source": [
    "anilist = pd.read_csv('anilist_raw.csv')"
   ]
  },
  {
   "cell_type": "code",
   "execution_count": null,
   "metadata": {},
   "outputs": [],
   "source": [
    "for index, row in anilist.iterrows():\n",
    "    # changing format of date data\n",
    "    month = '0'\n",
    "    day = '0'\n",
    "\n",
    "    # converting the columns from string into dict/list\n",
    "    row['startDate'] = ast.literal_eval(row['startDate']) \n",
    "    row['title'] = ast.literal_eval(row['title'])\n",
    "    row['synonyms'] = ast.literal_eval(row['synonyms'])\n",
    "\n",
    "    # making the 'synonyms' column lists in the actual dataframe\n",
    "    anilist.at[index, 'synonyms'] = row['synonyms']\n",
    "\n",
    "    # making month and days double digits\n",
    "    try:\n",
    "        if row['startDate']['month'] < 10:\n",
    "            month = '0' + str(row['startDate']['month'])\n",
    "        else:\n",
    "            month = str(row['startDate']['month'])\n",
    "    except:\n",
    "        pass\n",
    "\n",
    "    try:\n",
    "        if row['startDate']['day'] < 10:\n",
    "            day = '0' + str(row['startDate']['day'])\n",
    "        else:\n",
    "            day = str(row['startDate']['day'])\n",
    "    except:\n",
    "        pass\n",
    "\n",
    "    date = f\"{str(row['startDate']['year'])}-{month}-{day}\"\n",
    "\n",
    "    # adding new start date column\n",
    "    anilist.loc[index, 'start_date'] = date\n",
    "    \n",
    "    # adding column for year only\n",
    "    anilist.loc[index, 'year'] = row['startDate']['year']\n",
    "\n",
    "    # adding column for month only\n",
    "    anilist.loc[index, 'month'] = month\n",
    "\n",
    "    # changing format of name data\n",
    "    romaji_name = row['title']['romaji']\n",
    "    original_name = row['title']['native']\n",
    "    common_name = row['title']['english']\n",
    "\n",
    "    # adding new columns for the name\n",
    "    anilist.loc[index, 'name'] = romaji_name\n",
    "    anilist.loc[index, 'original_name'] = original_name\n",
    "    anilist.loc[index, 'common_name'] = common_name\n",
    "\n",
    "\n",
    "    # removing rows that are not from Japan\n",
    "    if 'JP' not in row[\"countryOfOrigin\"]:\n",
    "        anilist.drop(index, inplace = True)\n"
   ]
  },
  {
   "cell_type": "code",
   "execution_count": null,
   "metadata": {},
   "outputs": [],
   "source": [
    "# cleaning the japanese names\n",
    "for index, row in anilist.iterrows():\n",
    "\n",
    "    # cleaning the japanese name of the shows\n",
    "    cleaned_name = None\n",
    "    try:\n",
    "        cleaned_name = remove_punctuation(row['original_name'])\n",
    "    except:\n",
    "        pass\n",
    "    anilist.loc[index, 'cleaned_name'] = cleaned_name\n",
    "\n",
    "    # cleaning the synonyms and updating the synonym row\n",
    "    synonym_copy = row['synonyms'][::]\n",
    "    for synonym in row['synonyms']:\n",
    "        synonym_copy.append(remove_punctuation(synonym))\n",
    "\n",
    "    anilist.at[index, 'synonyms'] = synonym_copy\n",
    "    "
   ]
  },
  {
   "cell_type": "code",
   "execution_count": null,
   "metadata": {},
   "outputs": [],
   "source": [
    "# converting camelCase to snake_case because snake_case is superior\n",
    "anilist = anilist.rename({\"countryOfOrigin\" : \"origin_country\", \"averageScore\": \"average_score\", 'meanScore' : 'mean_score', 'isAdult' : 'is_adult', 'id' : 'anilist_id'}, axis = 'columns')\n",
    "\n",
    "# dropping the useless columns\n",
    "anilist = anilist.drop([\"title\", \"startDate\"], axis = 1)"
   ]
  },
  {
   "cell_type": "code",
   "execution_count": null,
   "metadata": {},
   "outputs": [],
   "source": [
    "anilist.head()"
   ]
  },
  {
   "cell_type": "code",
   "execution_count": null,
   "metadata": {},
   "outputs": [],
   "source": [
    "reordered_columns = ['anilist_id', 'name', 'original_name', 'common_name', 'synonyms', 'description', 'origin_country', 'average_score', 'mean_score', 'genres', 'popularity', 'favourites', 'source', 'is_adult', 'start_date', 'year', 'month', 'cleaned_name']\n",
    "anilist = anilist.reindex(columns = reordered_columns)"
   ]
  },
  {
   "cell_type": "code",
   "execution_count": null,
   "metadata": {},
   "outputs": [],
   "source": [
    "anilist.to_excel('anilist_cleaned.xlsx')\n",
    "anilist.to_csv('anilist_cleaned.csv')"
   ]
  },
  {
   "cell_type": "code",
   "execution_count": null,
   "metadata": {},
   "outputs": [],
   "source": []
  },
  {
   "cell_type": "code",
   "execution_count": null,
   "metadata": {},
   "outputs": [],
   "source": []
  }
 ]
}