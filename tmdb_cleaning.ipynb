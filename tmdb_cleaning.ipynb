{
 "metadata": {
  "language_info": {
   "codemirror_mode": {
    "name": "ipython",
    "version": 3
   },
   "file_extension": ".py",
   "mimetype": "text/x-python",
   "name": "python",
   "nbconvert_exporter": "python",
   "pygments_lexer": "ipython3",
   "version": "3.8.5"
  },
  "orig_nbformat": 2,
  "kernelspec": {
   "name": "python3",
   "display_name": "Python 3.8.5 64-bit ('base': conda)",
   "metadata": {
    "interpreter": {
     "hash": "c9bbbe4d64e0f0653c5bfb1b2e8b0c61249e8b0a940ba6d3db7c54bb7e4b468b"
    }
   }
  }
 },
 "nbformat": 4,
 "nbformat_minor": 2,
 "cells": [
  {
   "cell_type": "code",
   "execution_count": 1,
   "metadata": {},
   "outputs": [],
   "source": [
    "#imports\n",
    "import config\n",
    "import requests\n",
    "import json\n",
    "import csv\n",
    "import pprint\n",
    "import pandas as pd\n",
    "import time\n",
    "import ast\n",
    "import numpy as np\n",
    "import seaborn as sb\n",
    "import matplotlib.pyplot as plt\n",
    "import regex as re\n",
    "\n",
    "# import unicodedata.category as cat\n",
    "import unicodedata\n",
    "import sys\n",
    "\n",
    "# pretty printer for nicer formating when needed\n",
    "pp = pprint.PrettyPrinter(indent = 1)"
   ]
  },
  {
   "cell_type": "code",
   "execution_count": 2,
   "metadata": {},
   "outputs": [],
   "source": [
    "# function for removing weird non japanese characters from japanese strings\n",
    "tbl = dict.fromkeys(i for i in range(sys.maxunicode)\n",
    "                      if unicodedata.category(chr(i)).startswith('P'))\n",
    "\n",
    "def remove_punctuation(text):\n",
    "    alphanum_full = r'[！-～]'\n",
    "    symbols_punct = r'[、-〿]'\n",
    "    text = text.replace(\" \",\"\")\n",
    "    text = text.replace(\"　\",\"\")\n",
    "    text = text.replace(\"♡\",\"\")\n",
    "    text = text.replace(\"♥\", \"\")\n",
    "    text = text.replace(\"☆\",\"\")\n",
    "    text = text.replace(\"★\", \"\")\n",
    "    text = text.replace(\"△\",\"\")\n",
    "    text = text.replace(\"→\", \"\")\n",
    "    text = text.replace(\"×\", \"\")\n",
    "    text = text.lower()\n",
    "    text = re.sub(alphanum_full, \"\", text)\n",
    "    text = re.sub(symbols_punct, \"\", text)\n",
    "    return text.translate(tbl)"
   ]
  },
  {
   "cell_type": "code",
   "execution_count": 3,
   "metadata": {},
   "outputs": [],
   "source": [
    "tmdb = pd.read_excel('tmdb_raw.xlsx')"
   ]
  },
  {
   "cell_type": "code",
   "execution_count": 4,
   "metadata": {},
   "outputs": [],
   "source": [
    "for index, row in tmdb.iterrows():\n",
    "    try:\n",
    "        year = int(row['first_air_date'][:4])\n",
    "        tmdb.loc[index, 'year'] = year\n",
    "    except:\n",
    "        tmdb.drop(index, inplace = True)\n"
   ]
  },
  {
   "cell_type": "code",
   "execution_count": 5,
   "metadata": {},
   "outputs": [],
   "source": [
    "for index, row in tmdb.iterrows():\n",
    "    if 'JP' not in row['origin_country']:\n",
    "        tmdb.drop(index, inplace = True)"
   ]
  },
  {
   "source": [
    "for index, row in tmdb.iterrows():\n",
    "    cleaned_name = None\n",
    "\n",
    "    try:\n",
    "        cleaned_name = remove_punctuation(row['original_name'])\n",
    "    except:\n",
    "        pass\n",
    "\n",
    "    tmdb.loc[index, 'cleaned_name'] = cleaned_name"
   ],
   "cell_type": "code",
   "metadata": {},
   "execution_count": 6,
   "outputs": []
  },
  {
   "cell_type": "code",
   "execution_count": 8,
   "metadata": {},
   "outputs": [],
   "source": [
    "tmdb.to_excel('tmdb_cleaned.xlsx')\n",
    "tmdb.to_csv('tmdb_cleaned.csv')"
   ]
  }
 ]
}