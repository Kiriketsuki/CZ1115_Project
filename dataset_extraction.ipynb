{
 "metadata": {
  "language_info": {
   "codemirror_mode": {
    "name": "ipython",
    "version": 3
   },
   "file_extension": ".py",
   "mimetype": "text/x-python",
   "name": "python",
   "nbconvert_exporter": "python",
   "pygments_lexer": "ipython3",
   "version": "3.8.5-final"
  },
  "orig_nbformat": 2,
  "kernelspec": {
   "name": "python3",
   "display_name": "Python 3",
   "language": "python"
  }
 },
 "nbformat": 4,
 "nbformat_minor": 2,
 "cells": [
  {
   "cell_type": "code",
   "execution_count": 1,
   "metadata": {},
   "outputs": [],
   "source": [
    "#imports\n",
    "import config\n",
    "import requests\n",
    "import json\n",
    "import csv\n",
    "import pprint\n",
    "import pandas as pd\n",
    "\n",
    "\n",
    "# pretty printer for nicer formating when needed\n",
    "pp = pprint.PrettyPrinter(indent = 1)\n",
    "\n",
    "# api key hidden in config.py. config.py kept in .gitignore\n",
    "api_key = config.api_key"
   ]
  },
  {
   "cell_type": "code",
   "execution_count": 2,
   "metadata": {
    "tags": []
   },
   "outputs": [
    {
     "output_type": "stream",
     "name": "stdout",
     "text": [
      "{'genres': [{'id': 10759, 'name': 'Action & Adventure'},\n            {'id': 16, 'name': 'Animation'},\n            {'id': 35, 'name': 'Comedy'},\n            {'id': 80, 'name': 'Crime'},\n            {'id': 99, 'name': 'Documentary'},\n            {'id': 18, 'name': 'Drama'},\n            {'id': 10751, 'name': 'Family'},\n            {'id': 10762, 'name': 'Kids'},\n            {'id': 9648, 'name': 'Mystery'},\n            {'id': 10763, 'name': 'News'},\n            {'id': 10764, 'name': 'Reality'},\n            {'id': 10765, 'name': 'Sci-Fi & Fantasy'},\n            {'id': 10766, 'name': 'Soap'},\n            {'id': 10767, 'name': 'Talk'},\n            {'id': 10768, 'name': 'War & Politics'},\n            {'id': 37, 'name': 'Western'}]}\n                       backdrop_path first_air_date               genre_ids  \\\n0                               None     2035-11-09  [10762, 16, 35, 10751]   \n1                               None     2021-09-10         [16, 18, 10765]   \n2   /r4xrCeKjAbMlv3d46OaZXZoIUZk.jpg     2021-07-23             [16, 10762]   \n3   /k03n8Wf4lqFEG1eYTvE2iUgOf3Y.jpg     2021-07-02         [16, 35, 10751]   \n4   /tqpfH7YNB9lQU7Vw43c7BfFqhe0.jpg     2021-05-21                [16, 35]   \n5   /9JhZmHX8wJi1tO2qKMqmXBJgd8j.jpg     2021-05-04      [10765, 10759, 16]   \n6   /97T1I3HtbSdbasyOeq3vzPfTR4F.jpg     2021-05-01         [10765, 16, 18]   \n7                               None     2021-04-29  [16, 18, 10759, 10765]   \n8                               None     2021-04-15         [16, 18, 10759]   \n9   /wgAfwAECuTkJJAmq2slbQHaz2ZU.jpg     2021-04-14                [16, 35]   \n10  /qmeC99iX9YPbxi3Dwsw5VvxIbCC.jpg     2021-04-12  [16, 18, 10759, 10765]   \n11  /oASGWBHTTg3gQWJJpqlfff2VRcD.jpg     2021-04-11          [16, 35, 9648]   \n12  /qUh2VvxXC5dDQQDlyJTNDWWZ39k.jpg     2021-04-11              [16, 9648]   \n13  /rFJWJ6ZvU4JPqQhUOyW2Ai0oB3e.jpg     2021-04-11                [16, 35]   \n14  /rVpXdwvF33q5SEh9eQSVe5PS8yq.jpg     2021-04-11         [16, 18, 10759]   \n15  /xY6lIvyBEN1kProAh9YIvhawir0.jpg     2021-04-11  [16, 35, 10759, 10765]   \n16  /rvH5oCFXsqcxOHmovoDle76Uizd.jpg     2021-04-11  [16, 18, 10759, 10765]   \n17                              None     2021-04-10                [16, 35]   \n18  /ib8LPs5f2QjOPJGZuyMeCTPq36a.jpg     2021-04-10  [16, 35, 10759, 10765]   \n19  /mjyRFPrJ8SPF77STsbkR0X0rE6C.jpg     2021-04-10   [16, 18, 9648, 10759]   \n\n        id                                               name origin_country  \\\n0   118746                          Gumball's:Pre-School Life             []   \n1   120471  The Ancient Magus' Bride: The Boy From the Wes...           [JP]   \n2    96715                           Chip ‘N’ Dale: Park Life             []   \n3    90461                                   Monsters at Work           [US]   \n4   111312                                Marvel's M.O.D.O.K.           [US]   \n5   105971                           Star Wars: The Bad Batch           [US]   \n6    92584                                               Eden           [JP]   \n7   112166                                             Yasuke           [US]   \n8   112615                          Cestvs: The Roman Fighter           [JP]   \n9   110975  The Romcom Where the Childhood Friend Won't Lose!           [JP]   \n10   97525                                   To Your Eternity           [JP]   \n11  113042                          Pretty Boy Detective Club           [JP]   \n12  111576                                      Shadows House           [JP]   \n13  105556                   Don't Toy With Me, Miss Nagatoro           [JP]   \n14  105009                                    Tokyo Revengers           [JP]   \n15  104711                                         Edens Zero           [JP]   \n16  100565                                                 86           [JP]   \n17  117786             Yuuki Yuuna wa Yuusha de Aru Churutto!           [JP]   \n18  108460              Battle Athletess Daiundoukai ReSTART!           [JP]   \n19  105249             The World Ends with You: The Animation           [JP]   \n\n   original_language              original_name  \\\n0                 en  Gumball's:Pre-School Life   \n1                 ja         魔法使いの嫁  西の少年と青嵐の騎士   \n2                 en   Chip ‘N’ Dale: Park Life   \n3                 en           Monsters at Work   \n4                 en        Marvel's M.O.D.O.K.   \n5                 en   Star Wars: The Bad Batch   \n6                 ja                        エデン   \n7                 ja               YASUKE －ヤスケ－   \n8                 ja   セスタス -The Roman Fighter-   \n9                 ja           幼なじみが絶対に負けないラブコメ   \n10                ja                    不滅のあなたへ   \n11                ja                     美少年探偵団   \n12                ja                    シャドーハウス   \n13                ja                イジらないで、長瀞さん   \n14                ja                  東京リベンジャーズ   \n15                ja                    エデンズ ゼロ   \n16                ja               86―エイティシックス―   \n17                ja          結城友奈は勇者である ちゅるっと！   \n18                ja     バトルアスリーテス 大運動会ReSTART!   \n19                ja   すばらしきこのせかい The Animation   \n\n                                             overview  popularity  \\\n0   It Will Tell The Story Of Gumball And The Rest...       1.090   \n1   Gabriel, an ordinary boy who just moved from L...       3.468   \n2   A non-verbal, classic style comedy, following ...       0.600   \n3   Six months after the events of Monsters, Inc.,...       2.615   \n4   The megalomaniacal supervillain M.O.D.O.K. has...       1.579   \n5   Follow the elite and experimental Clones of th...       4.884   \n6   Thousands of years in the future, a city known...       1.532   \n7   In a war-torn feudal Japan filled with mechs a...       1.738   \n8                                                           3.052   \n9   My childhood friend Shida Kuroha seems to have...       5.989   \n10  An immortal being was sent to the surface of t...       4.637   \n11                                                          3.898   \n12                                                          7.104   \n13  Mischievous Nagatoro-san always bugs Senpai to...       4.519   \n14  Watching the news, Hanagaki Takemichi learns t...       8.212   \n15                                                         12.886   \n16  The Republic of San Magnolia has been attacked...       2.529   \n17                                                          0.602   \n18                                                          1.796   \n19                                                          3.181   \n\n                         poster_path  vote_average  vote_count  \n0                               None             0           0  \n1    /7hGQZyoJxxeuLnfHsSWCJGc1hh.jpg             0           0  \n2                               None             0           0  \n3   /tAZUtnyYgiQYBqi2ym0HTMiZ1eM.jpg             0           0  \n4                               None             0           0  \n5   /mQOsQaHHq0Akra7NKJtu02F4Kiq.jpg             0           0  \n6   /AkXC8EuJCjuonHZIkxkUmiCdSGe.jpg             0           0  \n7   /bWI0xU87wRWPF56cAGo3SuNHDIn.jpg             0           0  \n8   /s9yZHq5FmH5g1HhStpVDejZhA8p.jpg             0           0  \n9   /vnvhdm6bR9wrHWweTpwmGB6fD7C.jpg             0           0  \n10  /jxtLpQq0I7MF8kP99w0Q0K39UpG.jpg             0           0  \n11   /lzabnxJnHPfC5R3yebE3v6Vbxk.jpg             0           0  \n12  /i1NtlNJowIReUg6GRrm2Xnjo7Jy.jpg             0           0  \n13  /wpV16RDxMJsj9YEI8hqwVgEGoHb.jpg             0           0  \n14  /cdk13sQ2cB4XYeMAUq6gIH4WmMZ.jpg             0           0  \n15  /zwj3sFZksoFsKqYPMmqGB95H3XJ.jpg             0           0  \n16  /lClAsfSDZY8MDqH66YegN72sadH.jpg             0           0  \n17  /qYN9givjQ03fre8yUnb2onaAfnO.jpg             0           0  \n18  /qsiZM7GabMHucEVG97Hgf3V4aOe.jpg             0           0  \n19  /apHvxqMVuxIGDOL9lLOyA9q2a3z.jpg             0           0  \n"
     ]
    },
    {
     "output_type": "execute_result",
     "data": {
      "text/plain": [
       "(20, 13)"
      ]
     },
     "metadata": {},
     "execution_count": 2
    }
   ],
   "source": [
    "# to get id of genres\n",
    "genres = requests.get(f\"https://api.themoviedb.org/3/genre/tv/list?api_key={api_key}&language=en-US\").json()\n",
    "\n",
    "# genre id for animated tv shows is 16\n",
    "pp.pprint(genres)\n",
    "\n",
    "# testing out the api. query strings used are: api_key, language, sort_by, page, with_genre, include_null_first_air_dates\n",
    "sample = pd.DataFrame((requests.get(f\"https://api.themoviedb.org/3/discover/tv?api_key={api_key}&language=en-US&sort_by=first_air_date.desc&page=1&with_genres=16&include_null_first_air_dates=false\")).json()[\"results\"])\n",
    "\n",
    "# each page retrieved by the api only has 20 tv shows\n",
    "pp.pprint(sample)\n",
    "sample.shape"
   ]
  },
  {
   "cell_type": "code",
   "execution_count": 3,
   "metadata": {
    "tags": []
   },
   "outputs": [],
   "source": [
    "# initial creation of dataframe\n",
    "animated = pd.DataFrame()\n",
    "\n",
    "# manually checked, there are 367 pages of animated tv shows listed on tmdb\n",
    "for i in range(1, 501):\n",
    "    temp = pd.DataFrame((requests.get(f\"https://api.themoviedb.org/3/discover/tv?api_key={api_key}&language=en-US&sort_by=first_air_date.desc&page={i}&with_genres=16&include_null_first_air_dates=false\")).json()[\"results\"])\n",
    "    \n",
    "# to collate all the animated tv shows in one big dataframe\n",
    "    animated = pd.concat([animated, temp], ignore_index = True)"
   ]
  },
  {
   "cell_type": "code",
   "execution_count": 4,
   "metadata": {},
   "outputs": [],
   "source": [
    "# got rid of useless columns\n",
    "animated = animated.drop([\"backdrop_path\", \"poster_path\"], axis = 1)\n",
    "\n",
    "# removing rows of tv shows that aren't from JP\n",
    "for index, row in animated.iterrows():\n",
    "    # did not in, instead of == ['JP'] to include shows that are worked on in multiple countries including japan\n",
    "    if 'JP' not in row[\"origin_country\"]:\n",
    "        animated.drop(index, inplace = True)\n",
    "\n",
    "# convert to csv\n",
    "animated.to_csv(\"from_japan.csv\", index = False)\n",
    "\n",
    "# convert to excel\n",
    "animated.to_excel(\"from_japan.xlsx\", index = False)"
   ]
  },
  {
   "cell_type": "code",
   "execution_count": 5,
   "metadata": {},
   "outputs": [
    {
     "output_type": "execute_result",
     "data": {
      "text/plain": [
       "   first_air_date               genre_ids      id  \\\n",
       "1      2021-09-10         [16, 18, 10765]  120471   \n",
       "6      2021-05-01         [10765, 16, 18]   92584   \n",
       "8      2021-04-15         [16, 18, 10759]  112615   \n",
       "9      2021-04-14                [16, 35]  110975   \n",
       "10     2021-04-12  [16, 18, 10759, 10765]   97525   \n",
       "\n",
       "                                                 name origin_country  \\\n",
       "1   The Ancient Magus' Bride: The Boy From the Wes...           [JP]   \n",
       "6                                                Eden           [JP]   \n",
       "8                           Cestvs: The Roman Fighter           [JP]   \n",
       "9   The Romcom Where the Childhood Friend Won't Lose!           [JP]   \n",
       "10                                   To Your Eternity           [JP]   \n",
       "\n",
       "   original_language             original_name  \\\n",
       "1                 ja        魔法使いの嫁  西の少年と青嵐の騎士   \n",
       "6                 ja                       エデン   \n",
       "8                 ja  セスタス -The Roman Fighter-   \n",
       "9                 ja          幼なじみが絶対に負けないラブコメ   \n",
       "10                ja                   不滅のあなたへ   \n",
       "\n",
       "                                             overview  popularity  \\\n",
       "1   Gabriel, an ordinary boy who just moved from L...       3.468   \n",
       "6   Thousands of years in the future, a city known...       1.532   \n",
       "8                                                           3.052   \n",
       "9   My childhood friend Shida Kuroha seems to have...       5.989   \n",
       "10  An immortal being was sent to the surface of t...       4.637   \n",
       "\n",
       "    vote_average  vote_count  \n",
       "1            0.0           0  \n",
       "6            0.0           0  \n",
       "8            0.0           0  \n",
       "9            0.0           0  \n",
       "10           0.0           0  "
      ],
      "text/html": "<div>\n<style scoped>\n    .dataframe tbody tr th:only-of-type {\n        vertical-align: middle;\n    }\n\n    .dataframe tbody tr th {\n        vertical-align: top;\n    }\n\n    .dataframe thead th {\n        text-align: right;\n    }\n</style>\n<table border=\"1\" class=\"dataframe\">\n  <thead>\n    <tr style=\"text-align: right;\">\n      <th></th>\n      <th>first_air_date</th>\n      <th>genre_ids</th>\n      <th>id</th>\n      <th>name</th>\n      <th>origin_country</th>\n      <th>original_language</th>\n      <th>original_name</th>\n      <th>overview</th>\n      <th>popularity</th>\n      <th>vote_average</th>\n      <th>vote_count</th>\n    </tr>\n  </thead>\n  <tbody>\n    <tr>\n      <th>1</th>\n      <td>2021-09-10</td>\n      <td>[16, 18, 10765]</td>\n      <td>120471</td>\n      <td>The Ancient Magus' Bride: The Boy From the Wes...</td>\n      <td>[JP]</td>\n      <td>ja</td>\n      <td>魔法使いの嫁  西の少年と青嵐の騎士</td>\n      <td>Gabriel, an ordinary boy who just moved from L...</td>\n      <td>3.468</td>\n      <td>0.0</td>\n      <td>0</td>\n    </tr>\n    <tr>\n      <th>6</th>\n      <td>2021-05-01</td>\n      <td>[10765, 16, 18]</td>\n      <td>92584</td>\n      <td>Eden</td>\n      <td>[JP]</td>\n      <td>ja</td>\n      <td>エデン</td>\n      <td>Thousands of years in the future, a city known...</td>\n      <td>1.532</td>\n      <td>0.0</td>\n      <td>0</td>\n    </tr>\n    <tr>\n      <th>8</th>\n      <td>2021-04-15</td>\n      <td>[16, 18, 10759]</td>\n      <td>112615</td>\n      <td>Cestvs: The Roman Fighter</td>\n      <td>[JP]</td>\n      <td>ja</td>\n      <td>セスタス -The Roman Fighter-</td>\n      <td></td>\n      <td>3.052</td>\n      <td>0.0</td>\n      <td>0</td>\n    </tr>\n    <tr>\n      <th>9</th>\n      <td>2021-04-14</td>\n      <td>[16, 35]</td>\n      <td>110975</td>\n      <td>The Romcom Where the Childhood Friend Won't Lose!</td>\n      <td>[JP]</td>\n      <td>ja</td>\n      <td>幼なじみが絶対に負けないラブコメ</td>\n      <td>My childhood friend Shida Kuroha seems to have...</td>\n      <td>5.989</td>\n      <td>0.0</td>\n      <td>0</td>\n    </tr>\n    <tr>\n      <th>10</th>\n      <td>2021-04-12</td>\n      <td>[16, 18, 10759, 10765]</td>\n      <td>97525</td>\n      <td>To Your Eternity</td>\n      <td>[JP]</td>\n      <td>ja</td>\n      <td>不滅のあなたへ</td>\n      <td>An immortal being was sent to the surface of t...</td>\n      <td>4.637</td>\n      <td>0.0</td>\n      <td>0</td>\n    </tr>\n  </tbody>\n</table>\n</div>"
     },
     "metadata": {},
     "execution_count": 5
    }
   ],
   "source": [
    "animated.head()"
   ]
  }
 ]
}