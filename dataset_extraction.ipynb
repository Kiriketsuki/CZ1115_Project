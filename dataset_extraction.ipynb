{
 "metadata": {
  "language_info": {
   "codemirror_mode": {
    "name": "ipython",
    "version": 3
   },
   "file_extension": ".py",
   "mimetype": "text/x-python",
   "name": "python",
   "nbconvert_exporter": "python",
   "pygments_lexer": "ipython3",
   "version": "3.8.5"
  },
  "orig_nbformat": 2,
  "kernelspec": {
   "name": "python3",
   "display_name": "Python 3",
   "language": "python"
  }
 },
 "nbformat": 4,
 "nbformat_minor": 2,
 "cells": [
  {
   "cell_type": "code",
   "execution_count": 1,
   "metadata": {},
   "outputs": [],
   "source": [
    "#imports\n",
    "import config\n",
    "import requests\n",
    "import json\n",
    "import csv\n",
    "import pprint\n",
    "import pandas as pd\n",
    "\n",
    "\n",
    "# pretty printer for nicer formating when needed\n",
    "pp = pprint.PrettyPrinter(indent = 1)\n",
    "\n",
    "# api key hidden in config.py. config.py kept in .gitignore\n",
    "api_key = config.api_key"
   ]
  },
  {
   "cell_type": "code",
   "execution_count": 2,
   "metadata": {
    "tags": []
   },
   "outputs": [
    {
     "output_type": "stream",
     "name": "stdout",
     "text": [
      "{'genres': [{'id': 10759, 'name': 'Action & Adventure'},\n",
      "            {'id': 16, 'name': 'Animation'},\n",
      "            {'id': 35, 'name': 'Comedy'},\n",
      "            {'id': 80, 'name': 'Crime'},\n",
      "            {'id': 99, 'name': 'Documentary'},\n",
      "            {'id': 18, 'name': 'Drama'},\n",
      "            {'id': 10751, 'name': 'Family'},\n",
      "            {'id': 10762, 'name': 'Kids'},\n",
      "            {'id': 9648, 'name': 'Mystery'},\n",
      "            {'id': 10763, 'name': 'News'},\n",
      "            {'id': 10764, 'name': 'Reality'},\n",
      "            {'id': 10765, 'name': 'Sci-Fi & Fantasy'},\n",
      "            {'id': 10766, 'name': 'Soap'},\n",
      "            {'id': 10767, 'name': 'Talk'},\n",
      "            {'id': 10768, 'name': 'War & Politics'},\n",
      "            {'id': 37, 'name': 'Western'}]}\n",
      "                       backdrop_path first_air_date               genre_ids  \\\n",
      "0                               None     2021-09-10         [16, 18, 10765]   \n",
      "1   /r4xrCeKjAbMlv3d46OaZXZoIUZk.jpg     2021-07-23             [16, 10762]   \n",
      "2   /k03n8Wf4lqFEG1eYTvE2iUgOf3Y.jpg     2021-07-02         [16, 35, 10751]   \n",
      "3   /tqpfH7YNB9lQU7Vw43c7BfFqhe0.jpg     2021-05-21                [16, 35]   \n",
      "4   /9JhZmHX8wJi1tO2qKMqmXBJgd8j.jpg     2021-05-04      [10765, 10759, 16]   \n",
      "5   /97T1I3HtbSdbasyOeq3vzPfTR4F.jpg     2021-05-01         [10765, 16, 18]   \n",
      "6                               None     2021-04-29  [16, 18, 10759, 10765]   \n",
      "7                               None     2021-04-15         [16, 18, 10759]   \n",
      "8   /wgAfwAECuTkJJAmq2slbQHaz2ZU.jpg     2021-04-14                [16, 35]   \n",
      "9   /qmeC99iX9YPbxi3Dwsw5VvxIbCC.jpg     2021-04-12  [16, 18, 10759, 10765]   \n",
      "10  /oASGWBHTTg3gQWJJpqlfff2VRcD.jpg     2021-04-11          [16, 35, 9648]   \n",
      "11  /qUh2VvxXC5dDQQDlyJTNDWWZ39k.jpg     2021-04-11              [16, 9648]   \n",
      "12  /rFJWJ6ZvU4JPqQhUOyW2Ai0oB3e.jpg     2021-04-11                [16, 35]   \n",
      "13  /rVpXdwvF33q5SEh9eQSVe5PS8yq.jpg     2021-04-11         [16, 18, 10759]   \n",
      "14  /xY6lIvyBEN1kProAh9YIvhawir0.jpg     2021-04-11  [16, 35, 10759, 10765]   \n",
      "15  /rvH5oCFXsqcxOHmovoDle76Uizd.jpg     2021-04-11  [16, 18, 10759, 10765]   \n",
      "16                              None     2021-04-10                [16, 35]   \n",
      "17  /ib8LPs5f2QjOPJGZuyMeCTPq36a.jpg     2021-04-10  [16, 35, 10759, 10765]   \n",
      "18  /mjyRFPrJ8SPF77STsbkR0X0rE6C.jpg     2021-04-10   [16, 18, 9648, 10759]   \n",
      "19  /yh4jrQZWYVhOmXs3Lxh94XwT2Dt.jpg     2021-04-10         [16, 35, 10765]   \n",
      "\n",
      "        id                                               name origin_country  \\\n",
      "0   120471  The Ancient Magus' Bride: The Boy From the Wes...           [JP]   \n",
      "1    96715                           Chip ‘N’ Dale: Park Life             []   \n",
      "2    90461                                   Monsters at Work           [US]   \n",
      "3   111312                                Marvel's M.O.D.O.K.           [US]   \n",
      "4   105971                           Star Wars: The Bad Batch           [US]   \n",
      "5    92584                                               Eden           [JP]   \n",
      "6   112166                                             Yasuke           [US]   \n",
      "7   112615                          Cestvs: The Roman Fighter           [JP]   \n",
      "8   110975  The Romcom Where the Childhood Friend Won't Lose!           [JP]   \n",
      "9    97525                                   To Your Eternity           [JP]   \n",
      "10  113042                          Pretty Boy Detective Club           [JP]   \n",
      "11  111576                                      Shadows House           [JP]   \n",
      "12  105556                   Don't Toy With Me, Miss Nagatoro           [JP]   \n",
      "13  105009                                    Tokyo Revengers           [JP]   \n",
      "14  104711                                         Edens Zero           [JP]   \n",
      "15  100565                                                 86           [JP]   \n",
      "16  117786             Yuuki Yuuna wa Yuusha de Aru Churutto!           [JP]   \n",
      "17  108460              Battle Athletess Daiundoukai ReSTART!           [JP]   \n",
      "18  105249             The World Ends with You: The Animation           [JP]   \n",
      "19   99073  I've Been Killing Slimes for 300 Years and Max...           [JP]   \n",
      "\n",
      "   original_language                     original_name  \\\n",
      "0                 ja                魔法使いの嫁  西の少年と青嵐の騎士   \n",
      "1                 en          Chip ‘N’ Dale: Park Life   \n",
      "2                 en                  Monsters at Work   \n",
      "3                 en               Marvel's M.O.D.O.K.   \n",
      "4                 en          Star Wars: The Bad Batch   \n",
      "5                 ja                               エデン   \n",
      "6                 ja                      YASUKE －ヤスケ－   \n",
      "7                 ja          セスタス -The Roman Fighter-   \n",
      "8                 ja                  幼なじみが絶対に負けないラブコメ   \n",
      "9                 ja                           不滅のあなたへ   \n",
      "10                ja                            美少年探偵団   \n",
      "11                ja                           シャドーハウス   \n",
      "12                ja                       イジらないで、長瀞さん   \n",
      "13                ja                         東京リベンジャーズ   \n",
      "14                ja                           エデンズ ゼロ   \n",
      "15                ja                      86―エイティシックス―   \n",
      "16                ja                 結城友奈は勇者である ちゅるっと！   \n",
      "17                ja            バトルアスリーテス 大運動会ReSTART!   \n",
      "18                ja          すばらしきこのせかい The Animation   \n",
      "19                ja  スライム倒して300年、知らないうちにレベルMAXになってました   \n",
      "\n",
      "                                             overview  popularity  \\\n",
      "0   Gabriel, an ordinary boy who just moved from L...       1.276   \n",
      "1   A non-verbal, classic style comedy, following ...       0.804   \n",
      "2   Six months after the events of Monsters, Inc.,...       4.199   \n",
      "3   The megalomaniacal supervillain M.O.D.O.K. has...       1.099   \n",
      "4   Follow the elite and experimental Clones of th...       3.081   \n",
      "5   Thousands of years in the future, a city known...       1.960   \n",
      "6   In a war-torn feudal Japan filled with mechs a...       0.931   \n",
      "7                                                           8.375   \n",
      "8   My childhood friend Shida Kuroha seems to have...      16.435   \n",
      "9   An immortal being was sent to the surface of t...      12.725   \n",
      "10                                                          2.060   \n",
      "11                                                         19.494   \n",
      "12  Mischievous Nagatoro-san always bugs Senpai to...      12.401   \n",
      "13  Watching the news, Hanagaki Takemichi learns t...      22.534   \n",
      "14                                                         31.853   \n",
      "15  The Republic of San Magnolia has been attacked...       2.137   \n",
      "16                                                          2.146   \n",
      "17                                                          1.928   \n",
      "18                                                          2.908   \n",
      "19  An at-home comedy about a powerful girl who do...      20.800   \n",
      "\n",
      "                         poster_path  vote_average  vote_count  \n",
      "0    /7hGQZyoJxxeuLnfHsSWCJGc1hh.jpg             0           0  \n",
      "1                               None             0           0  \n",
      "2   /tAZUtnyYgiQYBqi2ym0HTMiZ1eM.jpg             0           0  \n",
      "3                               None             0           0  \n",
      "4   /mQOsQaHHq0Akra7NKJtu02F4Kiq.jpg             0           0  \n",
      "5   /AkXC8EuJCjuonHZIkxkUmiCdSGe.jpg             0           0  \n",
      "6   /bWI0xU87wRWPF56cAGo3SuNHDIn.jpg             0           0  \n",
      "7   /s9yZHq5FmH5g1HhStpVDejZhA8p.jpg             0           0  \n",
      "8   /vnvhdm6bR9wrHWweTpwmGB6fD7C.jpg             0           0  \n",
      "9   /jxtLpQq0I7MF8kP99w0Q0K39UpG.jpg             0           0  \n",
      "10   /lzabnxJnHPfC5R3yebE3v6Vbxk.jpg             0           0  \n",
      "11  /i1NtlNJowIReUg6GRrm2Xnjo7Jy.jpg             0           0  \n",
      "12  /wpV16RDxMJsj9YEI8hqwVgEGoHb.jpg             0           0  \n",
      "13  /cdk13sQ2cB4XYeMAUq6gIH4WmMZ.jpg             0           0  \n",
      "14  /zwj3sFZksoFsKqYPMmqGB95H3XJ.jpg             0           0  \n",
      "15  /lClAsfSDZY8MDqH66YegN72sadH.jpg             0           0  \n",
      "16  /qYN9givjQ03fre8yUnb2onaAfnO.jpg             0           0  \n",
      "17  /qsiZM7GabMHucEVG97Hgf3V4aOe.jpg             0           0  \n",
      "18  /apHvxqMVuxIGDOL9lLOyA9q2a3z.jpg             0           0  \n",
      "19  /2eTqW85lQxS1DdTp0TavXGOIric.jpg             0           0  \n"
     ]
    },
    {
     "output_type": "execute_result",
     "data": {
      "text/plain": [
       "(20, 13)"
      ]
     },
     "metadata": {},
     "execution_count": 2
    }
   ],
   "source": [
    "# to get id of genres\n",
    "genres = requests.get(f\"https://api.themoviedb.org/3/genre/tv/list?api_key={api_key}&language=en-US\").json()\n",
    "\n",
    "# genre id for animated tv shows is 16\n",
    "pp.pprint(genres)\n",
    "\n",
    "# testing out the api. query strings used are: api_key, language, sort_by, page, with_genre, include_null_first_air_dates\n",
    "sample = pd.DataFrame((requests.get(f\"https://api.themoviedb.org/3/discover/tv?api_key={api_key}&language=en-US&sort_by=first_air_date.desc&page=1&with_genres=16&include_null_first_air_dates=false\")).json()[\"results\"])\n",
    "\n",
    "# each page retrieved by the api only has 20 tv shows\n",
    "pp.pprint(sample)\n",
    "sample.shape"
   ]
  },
  {
   "cell_type": "code",
   "execution_count": 3,
   "metadata": {
    "tags": []
   },
   "outputs": [],
   "source": [
    "# initial creation of dataframe\n",
    "animated = pd.DataFrame()\n",
    "\n",
    "# manually checked, there are 367 pages of animated tv shows listed on tmdb\n",
    "for i in range(1, 501):\n",
    "    temp = pd.DataFrame((requests.get(f\"https://api.themoviedb.org/3/discover/tv?api_key={api_key}&language=en-US&sort_by=first_air_date.desc&page={i}&with_genres=16&include_null_first_air_dates=false\")).json()[\"results\"])\n",
    "    \n",
    "# to collate all the animated tv shows in one big dataframe\n",
    "    animated = pd.concat([animated, temp], ignore_index = True)"
   ]
  },
  {
   "cell_type": "code",
   "execution_count": 5,
   "metadata": {},
   "outputs": [],
   "source": [
    "# got rid of useless columns\n",
    "animated = animated.drop([\"backdrop_path\", \"poster_path\"], axis = 1)\n",
    "\n",
    "# convert to csv\n",
    "animated.to_csv(\"tmdb_raw.csv\", index = False)\n",
    "\n",
    "# convert to excel\n",
    "animated.to_excel(\"tmdb_raw.xlsx\", index = False)"
   ]
  },
  {
   "cell_type": "code",
   "execution_count": 5,
   "metadata": {},
   "outputs": [
    {
     "output_type": "execute_result",
     "data": {
      "text/plain": [
       "(3332, 8)"
      ]
     },
     "metadata": {},
     "execution_count": 5
    }
   ],
   "source": [
    "animated.shape"
   ]
  }
 ]
}