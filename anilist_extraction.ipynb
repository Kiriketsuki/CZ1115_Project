{
 "metadata": {
  "language_info": {
   "codemirror_mode": {
    "name": "ipython",
    "version": 3
   },
   "file_extension": ".py",
   "mimetype": "text/x-python",
   "name": "python",
   "nbconvert_exporter": "python",
   "pygments_lexer": "ipython3",
   "version": "3.8.5"
  },
  "orig_nbformat": 2,
  "kernelspec": {
   "name": "python3",
   "display_name": "Python 3.8.5 64-bit ('base': conda)",
   "metadata": {
    "interpreter": {
     "hash": "c9bbbe4d64e0f0653c5bfb1b2e8b0c61249e8b0a940ba6d3db7c54bb7e4b468b"
    }
   }
  }
 },
 "nbformat": 4,
 "nbformat_minor": 2,
 "cells": [
  {
   "cell_type": "code",
   "execution_count": 3,
   "metadata": {},
   "outputs": [],
   "source": [
    "#imports\n",
    "import config\n",
    "import requests\n",
    "import json\n",
    "import csv\n",
    "import pprint\n",
    "import pandas as pd\n",
    "import time\n",
    "\n",
    "\n",
    "# pretty printer for nicer formating when needed\n",
    "pp = pprint.PrettyPrinter(indent = 1)\n"
   ]
  },
  {
   "cell_type": "code",
   "execution_count": 18,
   "metadata": {},
   "outputs": [],
   "source": [
    "# Here we define our query as a multi-line string\n",
    "query = '''\n",
    "query ($id: Int, $page: Int, $perPage: Int, $search: String) {\n",
    "    Page (page: $page, perPage: $perPage) {\n",
    "        pageInfo {\n",
    "            total\n",
    "            currentPage\n",
    "            lastPage\n",
    "            hasNextPage\n",
    "            perPage\n",
    "        }\n",
    "        media (id: $id, search: $search) {\n",
    "            id\n",
    "            title {\n",
    "                romaji\n",
    "                english\n",
    "                native\n",
    "            }\n",
    "            synonyms\n",
    "            startDate {\n",
    "                year\n",
    "                month\n",
    "                day\n",
    "            }\n",
    "            description\n",
    "            countryOfOrigin\n",
    "            averageScore\n",
    "            meanScore\n",
    "            genres\n",
    "            popularity\n",
    "            favourites\n",
    "            source\n",
    "            isAdult\n",
    "        }\n",
    "    }\n",
    "}\n",
    "'''\n",
    "# 1571 pages with 50 per page\n",
    "variables = {\n",
    "    'page': 1,\n",
    "    'perPage' : 50\n",
    "}\n",
    "\n",
    "url = 'https://graphql.anilist.co'"
   ]
  },
  {
   "cell_type": "code",
   "execution_count": 19,
   "metadata": {},
   "outputs": [],
   "source": [
    "response = pd.DataFrame((requests.post(url, json={'query': query, 'variables': variables}).json())['data']['Page']['media'])"
   ]
  },
  {
   "cell_type": "code",
   "execution_count": 21,
   "metadata": {},
   "outputs": [],
   "source": [
    "anime = pd.DataFrame()\n",
    "\n",
    "for i in range(1, 1572):\n",
    "    variables['page'] = i\n",
    "    try:\n",
    "        temp = pd.DataFrame((requests.post(url, json = {'query': query, 'variables': variables}).json())['data']['Page']['media'])\n",
    "        anime = pd.concat([anime, temp], ignore_index = True)\n",
    "    except:\n",
    "        time.sleep(120)\n",
    "        i -= 1"
   ]
  },
  {
   "cell_type": "code",
   "execution_count": 22,
   "metadata": {},
   "outputs": [],
   "source": [
    "anime.to_excel(\"anilist_raw.xlsx\", index = False)\n",
    "anime.to_csv(\"anilist_raw.csv\", index = False)"
   ]
  },
  {
   "cell_type": "code",
   "execution_count": 16,
   "metadata": {},
   "outputs": [],
   "source": []
  }
 ]
}