{
 "metadata": {
  "language_info": {
   "codemirror_mode": {
    "name": "ipython",
    "version": 3
   },
   "file_extension": ".py",
   "mimetype": "text/x-python",
   "name": "python",
   "nbconvert_exporter": "python",
   "pygments_lexer": "ipython3",
   "version": "3.8.5"
  },
  "orig_nbformat": 2,
  "kernelspec": {
   "name": "python3",
   "display_name": "Python 3.8.5 64-bit ('base': conda)",
   "metadata": {
    "interpreter": {
     "hash": "c9bbbe4d64e0f0653c5bfb1b2e8b0c61249e8b0a940ba6d3db7c54bb7e4b468b"
    }
   }
  }
 },
 "nbformat": 4,
 "nbformat_minor": 2,
 "cells": [
  {
   "cell_type": "code",
   "execution_count": 16,
   "metadata": {},
   "outputs": [],
   "source": [
    "#imports\n",
    "import config\n",
    "import requests\n",
    "import json\n",
    "import csv\n",
    "import pprint\n",
    "import pandas as pd\n",
    "import time\n",
    "\n",
    "\n",
    "# pretty printer for nicer formating when needed\n",
    "pp = pprint.PrettyPrinter(indent = 1)\n"
   ]
  },
  {
   "cell_type": "code",
   "execution_count": 17,
   "metadata": {},
   "outputs": [],
   "source": [
    "# Here we define our query as a multi-line string\n",
    "query = '''\n",
    "query ($id: Int, $page: Int, $perPage: Int, $search: String) {\n",
    "    Page (page: $page, perPage: $perPage) {\n",
    "        pageInfo {\n",
    "            total\n",
    "            currentPage\n",
    "            lastPage\n",
    "            hasNextPage\n",
    "            perPage\n",
    "        }\n",
    "        media (id: $id, search: $search) {\n",
    "            id\n",
    "            title {\n",
    "                romaji\n",
    "                english\n",
    "                native\n",
    "            }\n",
    "            startDate {\n",
    "                year\n",
    "                month\n",
    "                day\n",
    "            }\n",
    "            description\n",
    "            countryOfOrigin\n",
    "            averageScore\n",
    "            genres\n",
    "        }\n",
    "    }\n",
    "}\n",
    "'''\n",
    "# 1571 pages with 50 per page\n",
    "variables = {\n",
    "    'page': 1,\n",
    "    'perPage' : 50\n",
    "}\n",
    "\n",
    "url = 'https://graphql.anilist.co'"
   ]
  },
  {
   "cell_type": "code",
   "execution_count": null,
   "metadata": {},
   "outputs": [],
   "source": [
    "response = pd.DataFrame((requests.post(url, json={'query': query, 'variables': variables}).json())['data']['Page']['media'])"
   ]
  },
  {
   "cell_type": "code",
   "execution_count": 18,
   "metadata": {},
   "outputs": [],
   "source": [
    "anime = pd.DataFrame()\n",
    "\n",
    "for i in range(1, 200):\n",
    "    variables['page'] = i\n",
    "    try:\n",
    "        temp = pd.DataFrame((requests.post(url, json = {'query': query, 'variables': variables}).json())['data']['Page']['media'])\n",
    "        anime = pd.concat([anime, temp], ignore_index = True)\n",
    "    except:\n",
    "        time.sleep(120)\n",
    "        temp = pd.DataFrame((requests.post(url, json = {'query': query, 'variables': variables}).json())['data']['Page']['media'])\n",
    "        anime = pd.concat([anime, temp], ignore_index = True)"
   ]
  },
  {
   "cell_type": "code",
   "execution_count": 19,
   "metadata": {},
   "outputs": [],
   "source": [
    "for index, row in anime.iterrows():\n",
    "    # changing format of date data\n",
    "    month = '0'\n",
    "    day = '0'\n",
    "    year = '0'\n",
    "    try:\n",
    "        if row['startDate']['month'] < 10:\n",
    "            month = '0' + str(row['startDate']['month'])\n",
    "        else:\n",
    "            month = str(row['startDate']['month'])\n",
    "    except:\n",
    "        pass\n",
    "\n",
    "    try:\n",
    "        if row['startDate']['day'] < 10:\n",
    "            day = '0' + str(row['startDate']['day'])\n",
    "        else:\n",
    "            day = str(row['startDate']['day'])\n",
    "    except:\n",
    "        pass\n",
    "\n",
    "    date = f\"{str(row['startDate']['year'])}-{month}-{day}\"\n",
    "    anime.loc[index, 'first_air_date'] = date\n",
    "\n",
    "    # changing format of name data\n",
    "    name = row['title']['romaji']\n",
    "    original_name = row['title']['native']\n",
    "\n",
    "    anime.loc[index, 'name'] = name\n",
    "    anime.loc[index, 'original_name'] = original_name\n",
    "\n",
    "    if 'JP' not in row[\"countryOfOrigin\"]:\n",
    "        anime.drop(index, inplace = True)\n",
    "\n",
    "anime = anime.rename({\"description\" : \"overview\", \"countryOfOrigin\" : \"origin_country\", \"averageScore\": \"vote_average\"}, axis = 'columns')\n",
    "anime = anime.drop([\"title\", \"startDate\"], axis = 1)\n"
   ]
  },
  {
   "cell_type": "code",
   "execution_count": 20,
   "metadata": {},
   "outputs": [],
   "source": [
    "cols = ['first_air_date', 'genres', 'id', 'name', 'origin_country', 'original_name', 'overview','vote_average']\n",
    "anime = anime[cols]"
   ]
  },
  {
   "cell_type": "code",
   "execution_count": 22,
   "metadata": {},
   "outputs": [],
   "source": [
    "anime.to_excel(\"anilist_test.xlsx\", index = False)"
   ]
  },
  {
   "cell_type": "code",
   "execution_count": null,
   "metadata": {},
   "outputs": [],
   "source": []
  }
 ]
}